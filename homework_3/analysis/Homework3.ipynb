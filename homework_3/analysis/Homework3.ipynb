{
 "cells": [
  {
   "cell_type": "markdown",
   "metadata": {},
   "source": [
    "# Homework 3\n",
    "\n",
    "In this homework, we optimized the matrix-vector computation using CUDA parallelism on GPUS. To do so, we defined the following multipliers to test different multiplications methods and timed each for analysis below:\n",
    "\n",
    "1. `AtomicSingleWarpMultiplier` - A multiplier that uses a single thread warp to compute a given output value, with the work distributed evenly. To aggregate data at the end, this multiplier uses the `atomicAdd` operation.\n",
    "2. `ShuffleSingleWarpMultiplier` - Also uses a single warp to compute a row worth of data, but this time uses the warp shuffling mechanism that we discussed in class.\n",
    "3. `MultipleWarpMultiplier` - A multiplier that instead uses multiple warps to compute a single row value. \n",
    "4. `WideMatrixMultiplier` - A multiplier optimized for the sort of \"wide\" matrices that were mentioned in the handout (few rows, but many columns). This utilizes a transpose operation to try and optimize the speed of these sorts of matrices.\n",
    "\n",
    "More in-depth comparison of each of these multipliers will be presented later in this report, as well as the required roof-line analysis.\n",
    "\n",
    "All of our code can be found in the `homework_3/src/benchmark.cu` file of the linked repository."
   ]
  },
  {
   "cell_type": "code",
   "execution_count": 13,
   "metadata": {},
   "outputs": [],
   "source": [
    "# Initial Data Preparation\n",
    "import pandas as pd\n",
    "import matplotlib.pyplot as plt\n",
    "import numpy as np\n",
    "\n",
    "benchmark = pd.read_csv('../data/benchmark.csv')\n",
    "benchmark_wide = pd.read_csv('../data/benchmark_wide.csv')"
   ]
  },
  {
   "cell_type": "markdown",
   "metadata": {},
   "source": [
    "## Roof-Line Analysis\n",
    "\n",
    "To perform the roof-line analysis required, we choose to focus on the "
   ]
  },
  {
   "cell_type": "markdown",
   "metadata": {},
   "source": [
    "## Atomic vs Shuffle Performance\n",
    "\n",
    "When we were looking into additional CUDA resources online, we found several guides that suggested the use of CUDA `atomicAdd` operations to perform the sort of aggregation that we used the `shuffle` operation for in class, and so we wanted to see how much of a performance drawback or advantage that this provided.\n",
    "\n",
    "So, to test this, we made the only difference between the `AtomicSingleWarpMultiplier` and the `ShuffleSingleWarpMultiplier` the aggregation method, so any performance difference can be attributed to this.\n",
    "\n",
    "As you can see in the graph below, the `Atomic` version suffers worse performance for smaller matrices, but this seems to go away as the size of the matrix gets larger. This makes sense in hindsight, as the atomic operation synchronization takes up a larger percentage of the compute time when the size of the matrix is small (each one has a relatively small amount of work to do, so they all try to synchronize at the same time), but this effect decreases when each thread has a larger amount of work to do, since they implicitly don't all end up finishing at the same time.\n",
    "\n",
    "We feel that this is an interesting case to consider, and will definitely be something we consider when writing CUDA kernels for our final project."
   ]
  },
  {
   "cell_type": "code",
   "execution_count": 17,
   "metadata": {},
   "outputs": [
    {
     "name": "stdout",
     "output_type": "stream",
     "text": [
      "        m       time_us\n",
      "26    100     50.099998\n",
      "38   1000    385.799988\n",
      "47  10000  11527.799805\n",
      "        m       time_us\n",
      "24    100    101.199997\n",
      "36   1000    444.200012\n",
      "45  10000  11430.299805\n"
     ]
    },
    {
     "data": {
      "image/png": "[encoded data removed]",
      "text/plain": [
       "<Figure size 640x480 with 1 Axes>"
      ]
     },
     "metadata": {},
     "output_type": "display_data"
    }
   ],
   "source": [
    "benchmark_shuffle = benchmark[benchmark['multiplier'] == \"ShuffleSingleWarpMultiplier\"]\n",
    "benchmark_shuffle = benchmark_shuffle[benchmark_shuffle['n'] == 10000]\n",
    "benchmark_shuffle['log_time'] = np.log(benchmark_shuffle['time_us'])\n",
    "benchmark_atomic = benchmark[benchmark['multiplier'] == \"AtomicSingleWarpMultiplier\"]\n",
    "benchmark_atomic = benchmark_atomic[benchmark_atomic['n'] == 10000]\n",
    "benchmark_atomic['log_time'] = np.log(benchmark_atomic['time_us'])\n",
    "\n",
    "columns = [\"m\", \"time_us\"]\n",
    "\n",
    "print(benchmark_shuffle[columns])\n",
    "print(benchmark_atomic[columns])\n",
    "\n",
    "fig, ax = plt.subplots()\n",
    "index = np.arange(3)\n",
    "bar_width = 0.35\n",
    "opacity = 0.8\n",
    "\n",
    "rects1 = plt.bar(index, benchmark_shuffle['log_time'], bar_width,\n",
    "                    alpha=opacity,\n",
    "                    color='b',\n",
    "                    label='Shuffle')\n",
    "\n",
    "rects2 = plt.bar(index + bar_width, benchmark_atomic['log_time'], bar_width,\n",
    "                    alpha=opacity,\n",
    "                    color='g',\n",
    "                    label='Atomic')\n",
    "\n",
    "plt.xlabel('Multiplier')\n",
    "plt.ylabel('log(Time) (us)')\n",
    "plt.title('Benchmark Results')\n",
    "plt.xticks(index + bar_width, (''))\n",
    "plt.legend()\n",
    "\n",
    "plt.tight_layout()\n",
    "plt.show()"
   ]
  },
  {
   "cell_type": "markdown",
   "metadata": {},
   "source": [
    "## Wide Matrix Optimization\n",
    "\n",
    "The purpose of the `WideMatrixMultiplier` is to be efficient when computing with matrices of size `10 x 10^n` for `n >> 1`. We ran these experiments separately, and we can see the results of comparing this for matrices of size $10 "
   ]
  },
  {
   "cell_type": "code",
   "execution_count": null,
   "metadata": {},
   "outputs": [],
   "source": []
  },
  {
   "cell_type": "markdown",
   "metadata": {},
   "source": [
    "## Single vs Multiple Warps\n",
    "\n",
    "As seen by the multipliers, we wanted to determine whether using single or multiple warps to process a single row of input data would yield a speedup."
   ]
  }
 ],
 "metadata": {
  "kernelspec": {
   "display_name": "base",
   "language": "python",
   "name": "python3"
  },
  "language_info": {
   "codemirror_mode": {
    "name": "ipython",
    "version": 3
   },
   "file_extension": ".py",
   "mimetype": "text/x-python",
   "name": "python",
   "nbconvert_exporter": "python",
   "pygments_lexer": "ipython3",
   "version": "3.11.4"
  }
 },
 "nbformat": 4,
 "nbformat_minor": 2
}
