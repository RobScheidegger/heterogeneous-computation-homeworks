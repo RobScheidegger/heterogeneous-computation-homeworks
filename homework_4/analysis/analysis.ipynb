{
 "cells": [
  {
   "cell_type": "markdown",
   "metadata": {},
   "source": [
    "# Homework 4\n",
    "\n",
    "In this homework we explore how we can leverage CUDA streams and asynchronous operations to maximize the throughput of matrix-vector multiplication. We build on the matrix-vector CUDA kernel we wrote last week namely the `ShuffleSingleWarpMultiplier` which assigns a single warp to each row and uses `__shfl_down_sync` to reduce the distributed multiplication.\n",
    "\n",
    "We explore CUDA streams by varying the number of created streams and assigning an approximately equal number of rows to each stream.\n",
    "\n",
    "All of the relevant code can be found in `homework_4/src/benchmark.cu` of the linked repository."
   ]
  },
  {
   "cell_type": "code",
   "execution_count": null,
   "metadata": {},
   "outputs": [],
   "source": [
    "import matplotlib.pyplot as plt\n",
    "import pandas as pd\n",
    "\n",
    "benchmark = pd.read_csv(\"../data/data.csv\")"
   ]
  }
 ],
 "metadata": {
  "language_info": {
   "name": "python"
  }
 },
 "nbformat": 4,
 "nbformat_minor": 2
}
